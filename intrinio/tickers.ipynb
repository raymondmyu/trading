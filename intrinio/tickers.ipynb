{
 "cells": [
  {
   "cell_type": "code",
   "execution_count": 56,
   "metadata": {},
   "outputs": [],
   "source": [
    "import os, glob\n",
    "import pandas as pd\n",
    "import numpy as np\n",
    "import re"
   ]
  },
  {
   "cell_type": "code",
   "execution_count": 80,
   "metadata": {},
   "outputs": [],
   "source": [
    "def load_and_preprocess(f):\n",
    "    classif = re.match('tickers_(\\w+).csv', f).group(1)\n",
    "    df = pd.read_csv(f)\n",
    "    df = df.iloc[:,:-1]\n",
    "    df['classif'] = classif\n",
    "    return df"
   ]
  },
  {
   "cell_type": "code",
   "execution_count": 81,
   "metadata": {},
   "outputs": [],
   "source": [
    "dfs = [load_and_preprocess(f) for f in glob.glob('tickers_*.csv')]\n",
    "\n",
    "df = pd.concat(dfs, ignore_index=True)"
   ]
  },
  {
   "cell_type": "code",
   "execution_count": 85,
   "metadata": {},
   "outputs": [],
   "source": [
    "df_class = df.reset_index().pivot_table('index',['Symbol','Name'],'classif', aggfunc=lambda x: len(x) > 0).fillna(False)"
   ]
  },
  {
   "cell_type": "code",
   "execution_count": 86,
   "metadata": {},
   "outputs": [
    {
     "data": {
      "text/plain": [
       "625"
      ]
     },
     "execution_count": 86,
     "metadata": {},
     "output_type": "execute_result"
    }
   ],
   "source": [
    "df_class.tech.sum()"
   ]
  },
  {
   "cell_type": "code",
   "execution_count": 104,
   "metadata": {},
   "outputs": [],
   "source": [
    "df_class = df.reset_index().pivot_table('index',['Symbol','Name'],'classif', aggfunc=lambda x: len(x) > 0).fillna(False)\n",
    "df_class.columns.name = None\n",
    "columns = df_class.columns\n",
    "df_class = df_class[sorted([c for c in columns if 'cap' not in c])+sorted([c for c in columns if 'cap' in c])]\n",
    "df_class.reset_index(inplace=True)\n",
    "\n",
    "df_meta = df.groupby('Symbol')[['LastSale','MarketCap','IPOyear']].mean().join(\n",
    "df.groupby('Symbol')[['Sector','Industry']].last()\n",
    ").reset_index()\n",
    "\n",
    "df_merged = df_meta.merge(df_class, on='Symbol', how='outer')\n",
    "\n",
    "df_merged.to_csv('tickers.csv', index=False)"
   ]
  },
  {
   "cell_type": "code",
   "execution_count": 105,
   "metadata": {},
   "outputs": [],
   "source": [
    "df_merged = pd.read_csv('tickers.csv')"
   ]
  },
  {
   "cell_type": "code",
   "execution_count": 106,
   "metadata": {},
   "outputs": [
    {
     "data": {
      "text/plain": [
       "basicindustries         317\n",
       "consumergoods           148\n",
       "consumernondurables     238\n",
       "consumerservices        825\n",
       "energy                  314\n",
       "finance                1054\n",
       "healthcare              859\n",
       "misc                    156\n",
       "publicutilities         271\n",
       "tech                    625\n",
       "transportation          123\n",
       "capitalgoods            371\n",
       "largecap                706\n",
       "megacap                  26\n",
       "microcap               1335\n",
       "midcap                 1184\n",
       "nanocap                1182\n",
       "smallcap               1840\n",
       "dtype: int64"
      ]
     },
     "execution_count": 106,
     "metadata": {},
     "output_type": "execute_result"
    }
   ],
   "source": [
    "df_merged.iloc[:,7:].sum()"
   ]
  },
  {
   "cell_type": "code",
   "execution_count": 107,
   "metadata": {},
   "outputs": [
    {
     "data": {
      "text/plain": [
       "Symbol                  object\n",
       "LastSale               float64\n",
       "MarketCap              float64\n",
       "IPOyear                float64\n",
       "Sector                  object\n",
       "Industry                object\n",
       "Name                    object\n",
       "basicindustries           bool\n",
       "consumergoods             bool\n",
       "consumernondurables       bool\n",
       "consumerservices          bool\n",
       "energy                    bool\n",
       "finance                   bool\n",
       "healthcare                bool\n",
       "misc                      bool\n",
       "publicutilities           bool\n",
       "tech                      bool\n",
       "transportation            bool\n",
       "capitalgoods              bool\n",
       "largecap                  bool\n",
       "megacap                   bool\n",
       "microcap                  bool\n",
       "midcap                    bool\n",
       "nanocap                   bool\n",
       "smallcap                  bool\n",
       "dtype: object"
      ]
     },
     "execution_count": 107,
     "metadata": {},
     "output_type": "execute_result"
    }
   ],
   "source": [
    "df_merged.dtypes"
   ]
  },
  {
   "cell_type": "code",
   "execution_count": null,
   "metadata": {},
   "outputs": [],
   "source": []
  }
 ],
 "metadata": {
  "kernelspec": {
   "display_name": "Python 3",
   "language": "python",
   "name": "python3"
  },
  "language_info": {
   "codemirror_mode": {
    "name": "ipython",
    "version": 3
   },
   "file_extension": ".py",
   "mimetype": "text/x-python",
   "name": "python",
   "nbconvert_exporter": "python",
   "pygments_lexer": "ipython3",
   "version": "3.6.5"
  }
 },
 "nbformat": 4,
 "nbformat_minor": 2
}
