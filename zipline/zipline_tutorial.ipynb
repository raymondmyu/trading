{
 "cells": [
  {
   "cell_type": "code",
   "execution_count": 46,
   "metadata": {},
   "outputs": [],
   "source": [
    "import pandas as pd\n",
    "import zipline\n",
    "from zipline.api import order, record, symbol\n",
    "%matplotlib inline"
   ]
  },
  {
   "cell_type": "code",
   "execution_count": 56,
   "metadata": {},
   "outputs": [],
   "source": [
    "def initialize(c):\n",
    "    c.security = symbol('FB')\n",
    "\n",
    "def handle_data(c, d):\n",
    "    order(c.security, 10)\n",
    "    record(FB=d.current(c.security, 'price'), FB_VOL=d.current(c.security,'volume'))\n",
    "\n",
    "results = zipline.run_algorithm(start=pd.Timestamp('2015-01-01',tz='utc'), end=pd.Timestamp('2018-01-01',tz='utc'),\n",
    "                                data_frequency='daily', capital_base=1e6, initialize=initialize, handle_data=handle_data, bundle='quantopian-quandl')"
   ]
  },
  {
   "cell_type": "code",
   "execution_count": 52,
   "metadata": {},
   "outputs": [
    {
     "data": {
      "text/plain": [
       "Index(['FB', 'FB_VOL', 'algo_volatility', 'algorithm_period_return', 'alpha',\n",
       "       'benchmark_period_return', 'benchmark_volatility', 'beta',\n",
       "       'capital_used', 'ending_cash', 'ending_exposure', 'ending_value',\n",
       "       'excess_return', 'gross_leverage', 'long_exposure', 'long_value',\n",
       "       'longs_count', 'max_drawdown', 'max_leverage', 'net_leverage', 'orders',\n",
       "       'period_close', 'period_label', 'period_open', 'pnl', 'portfolio_value',\n",
       "       'positions', 'returns', 'sharpe', 'short_exposure', 'short_value',\n",
       "       'shorts_count', 'sortino', 'starting_cash', 'starting_exposure',\n",
       "       'starting_value', 'trading_days', 'transactions',\n",
       "       'treasury_period_return'],\n",
       "      dtype='object')"
      ]
     },
     "execution_count": 52,
     "metadata": {},
     "output_type": "execute_result"
    }
   ],
   "source": [
    "results.columns"
   ]
  },
  {
   "cell_type": "code",
   "execution_count": 53,
   "metadata": {},
   "outputs": [
    {
     "data": {
      "text/plain": [
       "<matplotlib.axes._subplots.AxesSubplot at 0x1a2583a908>"
      ]
     },
     "execution_count": 53,
     "metadata": {},
     "output_type": "execute_result"
    },
    {
     "data": {
      "image/png": "[encoded data removed]",
      "text/plain": [
       "<Figure size 432x288 with 1 Axes>"
      ]
     },
     "metadata": {},
     "output_type": "display_data"
    }
   ],
   "source": [
    "results.portfolio_value.plot()"
   ]
  },
  {
   "cell_type": "code",
   "execution_count": 54,
   "metadata": {},
   "outputs": [
    {
     "data": {
      "text/plain": [
       "(1000000.0, 1419193.9942799935)"
      ]
     },
     "execution_count": 54,
     "metadata": {},
     "output_type": "execute_result"
    }
   ],
   "source": [
    "results.portfolio_value[0], results.portfolio_value[-1]"
   ]
  },
  {
   "cell_type": "code",
   "execution_count": null,
   "metadata": {},
   "outputs": [],
   "source": []
  }
 ],
 "metadata": {
  "kernelspec": {
   "display_name": "Python 3",
   "language": "python",
   "name": "python3"
  },
  "language_info": {
   "codemirror_mode": {
    "name": "ipython",
    "version": 3
   },
   "file_extension": ".py",
   "mimetype": "text/x-python",
   "name": "python",
   "nbconvert_exporter": "python",
   "pygments_lexer": "ipython3",
   "version": "3.6.6"
  }
 },
 "nbformat": 4,
 "nbformat_minor": 2
}
