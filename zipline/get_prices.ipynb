{
 "cells": [
  {
   "cell_type": "markdown",
   "metadata": {},
   "source": [
    "**Quandl API**"
   ]
  },
  {
   "cell_type": "code",
   "execution_count": 22,
   "metadata": {},
   "outputs": [],
   "source": [
    "# # import needed libraries\n",
    "# import quandl\n",
    "# import pandas as pd\n",
    "\n",
    "# # add quandl API key for unrestricted\n",
    "# quandl.ApiConfig.api_key = 'UstfyTzdVRpjmScPq7yn'\n",
    "\n",
    "# # get the table for daily stock prices and,\n",
    "# # filter the table for selected tickers, columns within a time range\n",
    "# # set paginate to True because Quandl limits tables API to 10,000 rows per call\n",
    "# data = quandl.get_table('WIKI/PRICES', ticker = ['ACIA','ACMR'], \n",
    "#                         qopts = { 'columns': ['ticker', 'date', 'adj_close'] }, \n",
    "#                         date = { 'gte': '2005-01-01', 'lte': '2018-12-31' }, \n",
    "#                         paginate=True)\n",
    "\n",
    "# # create a new dataframe with 'date' column as index\n",
    "# new = data.set_index('date')\n",
    "\n",
    "# # use pandas pivot function to sort adj_close by tickers\n",
    "# clean_data = new.pivot(columns='ticker')"
   ]
  },
  {
   "cell_type": "markdown",
   "metadata": {},
   "source": [
    "**Zipline Quandl Bundle**"
   ]
  },
  {
   "cell_type": "code",
   "execution_count": 14,
   "metadata": {},
   "outputs": [],
   "source": [
    "import os\n",
    "import pandas as pd\n",
    "import numpy as np\n",
    "import re\n",
    "from pandas import Timestamp\n",
    "from zipline.data.bundles import load\n",
    "from zipline.data.bundles.quandl import quandl_bundle\n",
    "from zipline.data.data_portal import DataPortal\n",
    "from zipline.utils.calendars import get_calendar"
   ]
  },
  {
   "cell_type": "code",
   "execution_count": 23,
   "metadata": {},
   "outputs": [],
   "source": [
    "now = Timestamp.utcnow()\n",
    "bundle = load('quandl', os.environ, now)\n",
    "\n",
    "all_assets = bundle.asset_finder.retrieve_all(bundle.asset_finder.sids)\n",
    "symbols = set(\n",
    "str(asset.symbol) for asset in bundle.asset_finder.retrieve_all(bundle.asset_finder.equities_sids)\n",
    ")\n",
    "\n",
    "quandl_data = DataPortal(asset_finder= bundle.asset_finder,\n",
    "trading_calendar = get_calendar('NYSE'),\n",
    "first_trading_day = bundle.equity_daily_bar_reader.first_trading_day,\n",
    "equity_minute_reader=bundle.equity_minute_bar_reader,\n",
    "equity_daily_reader=bundle.equity_daily_bar_reader,\n",
    "adjustment_reader=bundle.adjustment_reader)\n",
    "\n",
    "end_dt = pd.Timestamp('2017-12-31', tz = 'utc')"
   ]
  },
  {
   "cell_type": "code",
   "execution_count": 16,
   "metadata": {},
   "outputs": [],
   "source": [
    "available_files = !ls -ltS ../intrinio/financials/requests | awk '{if($5 > 1000) print $9}'\n",
    "available_tickers = np.unique([re.match('([A-Z]+)_.*', f).group(1) for f in available_files])"
   ]
  },
  {
   "cell_type": "code",
   "execution_count": 17,
   "metadata": {},
   "outputs": [
    {
     "data": {
      "text/plain": [
       "{'ACIA',\n",
       " 'ACMR',\n",
       " 'ALRM',\n",
       " 'AMN',\n",
       " 'ANET',\n",
       " 'APPF',\n",
       " 'APPN',\n",
       " 'APTI',\n",
       " 'AQ',\n",
       " 'AR',\n",
       " 'ARCH',\n",
       " 'ARLP',\n",
       " 'ASUR',\n",
       " 'AXTI',\n",
       " 'AYX',\n",
       " 'BAND',\n",
       " 'BGSF',\n",
       " 'BKI',\n",
       " 'BL',\n",
       " 'BOX',\n",
       " 'BPL',\n",
       " 'BSM',\n",
       " 'BWXT',\n",
       " 'CAI',\n",
       " 'CARG',\n",
       " 'CARS',\n",
       " 'CDEV',\n",
       " 'CLB',\n",
       " 'CLDR',\n",
       " 'COMM',\n",
       " 'CP',\n",
       " 'CRC',\n",
       " 'CRTO',\n",
       " 'CVRR',\n",
       " 'DNOW',\n",
       " 'DVMT',\n",
       " 'DWCH',\n",
       " 'ECA',\n",
       " 'EEP',\n",
       " 'ENB',\n",
       " 'ETP',\n",
       " 'EXTN',\n",
       " 'FEYE',\n",
       " 'FI',\n",
       " 'FIT',\n",
       " 'FLEX',\n",
       " 'FLOW',\n",
       " 'FRAC',\n",
       " 'FSCT',\n",
       " 'FSNN',\n",
       " 'GDDY',\n",
       " 'GDI',\n",
       " 'GEL',\n",
       " 'GTE',\n",
       " 'HDP',\n",
       " 'HEP',\n",
       " 'HESM',\n",
       " 'HUBS',\n",
       " 'IMO',\n",
       " 'INOV',\n",
       " 'INSE',\n",
       " 'INST',\n",
       " 'IOTS',\n",
       " 'KE',\n",
       " 'KELYB',\n",
       " 'KLIC',\n",
       " 'LOGI',\n",
       " 'LTRPA',\n",
       " 'LTRPB',\n",
       " 'MB',\n",
       " 'MCRN',\n",
       " 'MDB',\n",
       " 'MIC',\n",
       " 'MIME',\n",
       " 'MITL',\n",
       " 'MJCO',\n",
       " 'MLNX',\n",
       " 'MMP',\n",
       " 'MOBL',\n",
       " 'MPLX',\n",
       " 'MRAM',\n",
       " 'MTCH',\n",
       " 'MX',\n",
       " 'NBLX',\n",
       " 'NEWR',\n",
       " 'NGL',\n",
       " 'NH',\n",
       " 'NS',\n",
       " 'NTNX',\n",
       " 'OKTA',\n",
       " 'ON',\n",
       " 'OOMA',\n",
       " 'OTEX',\n",
       " 'PAA',\n",
       " 'PAGP',\n",
       " 'PSDO',\n",
       " 'PSTG',\n",
       " 'PSXP',\n",
       " 'PTC',\n",
       " 'PUMP',\n",
       " 'PXLW',\n",
       " 'QADB',\n",
       " 'QTNA',\n",
       " 'RPD',\n",
       " 'SABR',\n",
       " 'SCWX',\n",
       " 'SEDG',\n",
       " 'SGH',\n",
       " 'SHLX',\n",
       " 'SLP',\n",
       " 'SNAP',\n",
       " 'SNDR',\n",
       " 'SOHU',\n",
       " 'SPXC',\n",
       " 'SQ',\n",
       " 'SRCI',\n",
       " 'SRT',\n",
       " 'SSTI',\n",
       " 'SWCH',\n",
       " 'TCX',\n",
       " 'TELL',\n",
       " 'TPL',\n",
       " 'TRTN',\n",
       " 'TTD',\n",
       " 'TUSK',\n",
       " 'TWLO',\n",
       " 'ULH',\n",
       " 'UPLD',\n",
       " 'VEEV',\n",
       " 'VERI',\n",
       " 'VIAV',\n",
       " 'VLP',\n",
       " 'VNOM',\n",
       " 'VUZI',\n",
       " 'WATT',\n",
       " 'WEB',\n",
       " 'WFT',\n",
       " 'WHD',\n",
       " 'WK',\n",
       " 'WRD',\n",
       " 'WTTR',\n",
       " 'XOG',\n",
       " 'XPER',\n",
       " 'YEXT'}"
      ]
     },
     "execution_count": 17,
     "metadata": {},
     "output_type": "execute_result"
    }
   ],
   "source": [
    "set(available_tickers) - symbols"
   ]
  },
  {
   "cell_type": "code",
   "execution_count": 24,
   "metadata": {},
   "outputs": [],
   "source": [
    "quandl_symbols = []\n",
    "for ticker in symbols:\n",
    "    try:\n",
    "        quandl_symbols.append(quandl_data.asset_finder.lookup_symbol(ticker,end_dt))\n",
    "    except:\n",
    "        continue\n",
    "quandl_pricing = quandl_data.get_history_window(quandl_symbols,end_dt,1000,'1d','close','daily')"
   ]
  },
  {
   "cell_type": "code",
   "execution_count": 26,
   "metadata": {},
   "outputs": [
    {
     "data": {
      "text/plain": [
       "(1000, 3196)"
      ]
     },
     "execution_count": 26,
     "metadata": {},
     "output_type": "execute_result"
    }
   ],
   "source": [
    "quandl_pricing.shape"
   ]
  },
  {
   "cell_type": "code",
   "execution_count": null,
   "metadata": {},
   "outputs": [],
   "source": []
  }
 ],
 "metadata": {
  "kernelspec": {
   "display_name": "Python 3",
   "language": "python",
   "name": "python3"
  },
  "language_info": {
   "codemirror_mode": {
    "name": "ipython",
    "version": 3
   },
   "file_extension": ".py",
   "mimetype": "text/x-python",
   "name": "python",
   "nbconvert_exporter": "python",
   "pygments_lexer": "ipython3",
   "version": "3.6.5"
  }
 },
 "nbformat": 4,
 "nbformat_minor": 2
}
