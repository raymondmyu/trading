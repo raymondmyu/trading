{
 "cells": [
  {
   "cell_type": "code",
   "execution_count": 4,
   "metadata": {},
   "outputs": [
    {
     "name": "stdout",
     "output_type": "stream",
     "text": [
      "('https://www.sec.gov/Archives/edgar/full-index/2009/QTR1/crawler.idx', 2009, 1) downloaded and wrote to SQLite\n",
      "('https://www.sec.gov/Archives/edgar/full-index/2009/QTR2/crawler.idx', 2009, 2) downloaded and wrote to SQLite\n",
      "('https://www.sec.gov/Archives/edgar/full-index/2009/QTR3/crawler.idx', 2009, 3) downloaded and wrote to SQLite\n",
      "('https://www.sec.gov/Archives/edgar/full-index/2009/QTR4/crawler.idx', 2009, 4) downloaded and wrote to SQLite\n",
      "('https://www.sec.gov/Archives/edgar/full-index/2010/QTR1/crawler.idx', 2010, 1) downloaded and wrote to SQLite\n",
      "('https://www.sec.gov/Archives/edgar/full-index/2010/QTR2/crawler.idx', 2010, 2) downloaded and wrote to SQLite\n",
      "('https://www.sec.gov/Archives/edgar/full-index/2010/QTR3/crawler.idx', 2010, 3) downloaded and wrote to SQLite\n",
      "('https://www.sec.gov/Archives/edgar/full-index/2010/QTR4/crawler.idx', 2010, 4) downloaded and wrote to SQLite\n",
      "('https://www.sec.gov/Archives/edgar/full-index/2011/QTR1/crawler.idx', 2011, 1) downloaded and wrote to SQLite\n",
      "('https://www.sec.gov/Archives/edgar/full-index/2011/QTR2/crawler.idx', 2011, 2) downloaded and wrote to SQLite\n",
      "('https://www.sec.gov/Archives/edgar/full-index/2011/QTR3/crawler.idx', 2011, 3) downloaded and wrote to SQLite\n",
      "('https://www.sec.gov/Archives/edgar/full-index/2011/QTR4/crawler.idx', 2011, 4) downloaded and wrote to SQLite\n",
      "('https://www.sec.gov/Archives/edgar/full-index/2012/QTR1/crawler.idx', 2012, 1) downloaded and wrote to SQLite\n",
      "('https://www.sec.gov/Archives/edgar/full-index/2012/QTR2/crawler.idx', 2012, 2) downloaded and wrote to SQLite\n",
      "('https://www.sec.gov/Archives/edgar/full-index/2012/QTR3/crawler.idx', 2012, 3) downloaded and wrote to SQLite\n",
      "('https://www.sec.gov/Archives/edgar/full-index/2012/QTR4/crawler.idx', 2012, 4) downloaded and wrote to SQLite\n",
      "('https://www.sec.gov/Archives/edgar/full-index/2013/QTR1/crawler.idx', 2013, 1) downloaded and wrote to SQLite\n",
      "('https://www.sec.gov/Archives/edgar/full-index/2013/QTR2/crawler.idx', 2013, 2) downloaded and wrote to SQLite\n",
      "('https://www.sec.gov/Archives/edgar/full-index/2013/QTR3/crawler.idx', 2013, 3) downloaded and wrote to SQLite\n",
      "('https://www.sec.gov/Archives/edgar/full-index/2013/QTR4/crawler.idx', 2013, 4) downloaded and wrote to SQLite\n",
      "('https://www.sec.gov/Archives/edgar/full-index/2014/QTR1/crawler.idx', 2014, 1) downloaded and wrote to SQLite\n",
      "('https://www.sec.gov/Archives/edgar/full-index/2014/QTR2/crawler.idx', 2014, 2) downloaded and wrote to SQLite\n",
      "('https://www.sec.gov/Archives/edgar/full-index/2014/QTR3/crawler.idx', 2014, 3) downloaded and wrote to SQLite\n",
      "('https://www.sec.gov/Archives/edgar/full-index/2014/QTR4/crawler.idx', 2014, 4) downloaded and wrote to SQLite\n",
      "('https://www.sec.gov/Archives/edgar/full-index/2015/QTR1/crawler.idx', 2015, 1) downloaded and wrote to SQLite\n",
      "('https://www.sec.gov/Archives/edgar/full-index/2015/QTR2/crawler.idx', 2015, 2) downloaded and wrote to SQLite\n",
      "('https://www.sec.gov/Archives/edgar/full-index/2015/QTR3/crawler.idx', 2015, 3) downloaded and wrote to SQLite\n",
      "('https://www.sec.gov/Archives/edgar/full-index/2015/QTR4/crawler.idx', 2015, 4) downloaded and wrote to SQLite\n",
      "('https://www.sec.gov/Archives/edgar/full-index/2016/QTR1/crawler.idx', 2016, 1) downloaded and wrote to SQLite\n",
      "('https://www.sec.gov/Archives/edgar/full-index/2016/QTR2/crawler.idx', 2016, 2) downloaded and wrote to SQLite\n",
      "('https://www.sec.gov/Archives/edgar/full-index/2016/QTR3/crawler.idx', 2016, 3) downloaded and wrote to SQLite\n",
      "('https://www.sec.gov/Archives/edgar/full-index/2016/QTR4/crawler.idx', 2016, 4) downloaded and wrote to SQLite\n",
      "('https://www.sec.gov/Archives/edgar/full-index/2017/QTR1/crawler.idx', 2017, 1) downloaded and wrote to SQLite\n",
      "('https://www.sec.gov/Archives/edgar/full-index/2017/QTR2/crawler.idx', 2017, 2) downloaded and wrote to SQLite\n",
      "('https://www.sec.gov/Archives/edgar/full-index/2017/QTR3/crawler.idx', 2017, 3) downloaded and wrote to SQLite\n",
      "('https://www.sec.gov/Archives/edgar/full-index/2017/QTR4/crawler.idx', 2017, 4) downloaded and wrote to SQLite\n",
      "('https://www.sec.gov/Archives/edgar/full-index/2018/QTR1/crawler.idx', 2018, 1) downloaded and wrote to SQLite\n",
      "('https://www.sec.gov/Archives/edgar/full-index/2018/QTR2/crawler.idx', 2018, 2) downloaded and wrote to SQLite\n",
      "('https://www.sec.gov/Archives/edgar/full-index/2018/QTR3/crawler.idx', 2018, 3) downloaded and wrote to SQLite\n"
     ]
    }
   ],
   "source": [
    "# Generate the list of index files archived in EDGAR since start_year (earliest: 1993) until the most recent quarter\n",
    "import datetime\n",
    " \n",
    "current_year = datetime.date.today().year\n",
    "current_quarter = (datetime.date.today().month - 1) // 3 + 1\n",
    "start_year = 2009\n",
    "years = list(range(start_year, current_year))\n",
    "quarters = ['QTR1', 'QTR2', 'QTR3', 'QTR4']\n",
    "history = [(y, q) for y in years for q in quarters]\n",
    "for i in range(1, current_quarter + 1):\n",
    "    history.append((current_year, 'QTR%d' % i))\n",
    "urls = [('https://www.sec.gov/Archives/edgar/full-index/%d/%s/crawler.idx' % (x[0], x[1]), x[0], int(x[1][-1])) for x in history]\n",
    "urls.sort()\n",
    " \n",
    "# Download index files and write content into SQLite\n",
    "import sqlite3\n",
    "import requests\n",
    " \n",
    "con = sqlite3.connect('edgar_htm_idx.db')\n",
    "cur = con.cursor()\n",
    "cur.execute('DROP TABLE IF EXISTS idx')\n",
    "cur.execute('CREATE TABLE idx (conm TEXT, type TEXT, cik TEXT, date TEXT, path TEXT, year INT, quarter INT)')\n",
    " \n",
    "for url in urls:\n",
    "    lines = requests.get(url[0]).text.splitlines()\n",
    "    nameloc = lines[7].find('Company Name')\n",
    "    typeloc = lines[7].find('Form Type')\n",
    "    cikloc = lines[7].find('CIK')\n",
    "    dateloc = lines[7].find('Date Filed')\n",
    "    urlloc = lines[7].find('URL')\n",
    "    records = [tuple([line[:typeloc].strip(), line[typeloc:cikloc].strip(), line[cikloc:dateloc].strip(),\n",
    "                      line[dateloc:urlloc].strip(), line[urlloc:].strip()]+[url[1],url[2]]) for line in lines[9:]]\n",
    "    cur.executemany('INSERT INTO idx VALUES (?, ?, ?, ?, ?, ?, ?)', records)\n",
    "    print(url, 'downloaded and wrote to SQLite')\n",
    " \n",
    "con.commit()\n",
    "con.close()"
   ]
  },
  {
   "cell_type": "code",
   "execution_count": null,
   "metadata": {},
   "outputs": [],
   "source": []
  }
 ],
 "metadata": {
  "kernelspec": {
   "display_name": "Python 3",
   "language": "python",
   "name": "python3"
  },
  "language_info": {
   "codemirror_mode": {
    "name": "ipython",
    "version": 3
   },
   "file_extension": ".py",
   "mimetype": "text/x-python",
   "name": "python",
   "nbconvert_exporter": "python",
   "pygments_lexer": "ipython3",
   "version": "3.6.5"
  }
 },
 "nbformat": 4,
 "nbformat_minor": 2
}
