{
 "cells": [
  {
   "cell_type": "code",
   "execution_count": 52,
   "metadata": {},
   "outputs": [],
   "source": [
    "import pandas as pd\n",
    "import numpy as np\n",
    "import sqlalchemy as sa\n",
    "%matplotlib inline"
   ]
  },
  {
   "cell_type": "code",
   "execution_count": 7,
   "metadata": {},
   "outputs": [],
   "source": [
    "pd.set_option('max_colwidth',-1)"
   ]
  },
  {
   "cell_type": "code",
   "execution_count": 4,
   "metadata": {},
   "outputs": [],
   "source": [
    "con = sa.create_engine('sqlite:///edgar_htm_idx.db').connect()"
   ]
  },
  {
   "cell_type": "code",
   "execution_count": 10,
   "metadata": {},
   "outputs": [
    {
     "data": {
      "text/plain": [
       "Index(['conm', 'type', 'cik', 'date', 'path', 'year', 'quarter', 'CIK',\n",
       "       'Ticker', 'Name', 'Exchange', 'SIC', 'Business', 'Incorporated', 'IRS',\n",
       "       'CIK', 'Ticker', 'Name', 'Exchange', 'SIC', 'Business', 'Incorporated',\n",
       "       'IRS'],\n",
       "      dtype='object')"
      ]
     },
     "execution_count": 10,
     "metadata": {},
     "output_type": "execute_result"
    }
   ],
   "source": [
    "ticker_df.columns"
   ]
  },
  {
   "cell_type": "code",
   "execution_count": 16,
   "metadata": {},
   "outputs": [
    {
     "name": "stdout",
     "output_type": "stream",
     "text": [
      "{'NAP': '1617049', 'BIDU': '1329099'}\n"
     ]
    }
   ],
   "source": [
    "import re, requests\n",
    "\n",
    "def getCIKs(TICKERS):\n",
    "    URL = 'http://www.sec.gov/cgi-bin/browse-edgar?CIK={}&Find=Search&owner=exclude&action=getcompany'\n",
    "    CIK_RE = re.compile(r'.*CIK=(\\d{10}).*')    \n",
    "    cik_dict = {}\n",
    "    for ticker in TICKERS:\n",
    "        f = requests.get(URL.format(ticker), stream = True)\n",
    "        results = CIK_RE.findall(f.text)\n",
    "        if len(results):\n",
    "            results[0] = int(re.sub('\\.[0]*', '.', results[0]))\n",
    "            cik_dict[str(ticker).upper()] = str(results[0])\n",
    "    f = open('cik_dict', 'w')   \n",
    "    print(cik_dict)\n",
    "    f.close()\n",
    "\n",
    "getCIKs(['nap','bidu'])"
   ]
  },
  {
   "cell_type": "code",
   "execution_count": 19,
   "metadata": {},
   "outputs": [],
   "source": [
    "def getCIK(ticker):\n",
    "    URL = 'http://www.sec.gov/cgi-bin/browse-edgar?CIK={}&Find=Search&owner=exclude&action=getcompany'\n",
    "    CIK_RE = re.compile(r'.*CIK=(\\d{10}).*')    \n",
    "    f = requests.get(URL.format(ticker), stream = True)\n",
    "    results = CIK_RE.findall(f.text)\n",
    "    if len(results):\n",
    "        results[0] = int(re.sub('\\.[0]*', '.', results[0]))\n",
    "        return str(results[0])\n",
    "    else:\n",
    "        return None\n",
    "        "
   ]
  },
  {
   "cell_type": "code",
   "execution_count": 37,
   "metadata": {},
   "outputs": [],
   "source": [
    "ticker = 'NAP'\n",
    "cik = getCIK(ticker)\n",
    "ticker_df = pd.read_sql('select * from idx where cik={} and type in (\"10-Q\",\"10-K\",\"20-F\")'.format(cik), con)"
   ]
  },
  {
   "cell_type": "code",
   "execution_count": 38,
   "metadata": {
    "scrolled": true
   },
   "outputs": [
    {
     "data": {
      "text/html": [
       "<div>\n",
       "<style scoped>\n",
       "    .dataframe tbody tr th:only-of-type {\n",
       "        vertical-align: middle;\n",
       "    }\n",
       "\n",
       "    .dataframe tbody tr th {\n",
       "        vertical-align: top;\n",
       "    }\n",
       "\n",
       "    .dataframe thead th {\n",
       "        text-align: right;\n",
       "    }\n",
       "</style>\n",
       "<table border=\"1\" class=\"dataframe\">\n",
       "  <thead>\n",
       "    <tr style=\"text-align: right;\">\n",
       "      <th></th>\n",
       "      <th>conm</th>\n",
       "      <th>type</th>\n",
       "      <th>cik</th>\n",
       "      <th>date</th>\n",
       "      <th>path</th>\n",
       "      <th>year</th>\n",
       "      <th>quarter</th>\n",
       "    </tr>\n",
       "  </thead>\n",
       "  <tbody>\n",
       "    <tr>\n",
       "      <th>0</th>\n",
       "      <td>Navios Maritime Midstream Partners LP</td>\n",
       "      <td>20-F</td>\n",
       "      <td>1617049</td>\n",
       "      <td>2015-03-17</td>\n",
       "      <td>https://www.sec.gov/Archives/edgar/data/1617049/0001193125-15-095533-index.htm</td>\n",
       "      <td>2015</td>\n",
       "      <td>1</td>\n",
       "    </tr>\n",
       "    <tr>\n",
       "      <th>1</th>\n",
       "      <td>Navios Maritime Midstream Partners LP</td>\n",
       "      <td>20-F</td>\n",
       "      <td>1617049</td>\n",
       "      <td>2016-03-08</td>\n",
       "      <td>https://www.sec.gov/Archives/edgar/data/1617049/0001193125-16-496861-index.htm</td>\n",
       "      <td>2016</td>\n",
       "      <td>1</td>\n",
       "    </tr>\n",
       "    <tr>\n",
       "      <th>2</th>\n",
       "      <td>Navios Maritime Midstream Partners LP</td>\n",
       "      <td>20-F</td>\n",
       "      <td>1617049</td>\n",
       "      <td>2017-03-08</td>\n",
       "      <td>https://www.sec.gov/Archives/edgar/data/1617049/0001193125-17-074840-index.htm</td>\n",
       "      <td>2017</td>\n",
       "      <td>1</td>\n",
       "    </tr>\n",
       "    <tr>\n",
       "      <th>3</th>\n",
       "      <td>Navios Maritime Midstream Partners LP</td>\n",
       "      <td>20-F</td>\n",
       "      <td>1617049</td>\n",
       "      <td>2018-03-09</td>\n",
       "      <td>https://www.sec.gov/Archives/edgar/data/1617049/0001193125-18-077362-index.htm</td>\n",
       "      <td>2018</td>\n",
       "      <td>1</td>\n",
       "    </tr>\n",
       "  </tbody>\n",
       "</table>\n",
       "</div>"
      ],
      "text/plain": [
       "                                    conm  type      cik        date  \\\n",
       "0  Navios Maritime Midstream Partners LP  20-F  1617049  2015-03-17   \n",
       "1  Navios Maritime Midstream Partners LP  20-F  1617049  2016-03-08   \n",
       "2  Navios Maritime Midstream Partners LP  20-F  1617049  2017-03-08   \n",
       "3  Navios Maritime Midstream Partners LP  20-F  1617049  2018-03-09   \n",
       "\n",
       "                                                                             path  \\\n",
       "0  https://www.sec.gov/Archives/edgar/data/1617049/0001193125-15-095533-index.htm   \n",
       "1  https://www.sec.gov/Archives/edgar/data/1617049/0001193125-16-496861-index.htm   \n",
       "2  https://www.sec.gov/Archives/edgar/data/1617049/0001193125-17-074840-index.htm   \n",
       "3  https://www.sec.gov/Archives/edgar/data/1617049/0001193125-18-077362-index.htm   \n",
       "\n",
       "   year  quarter  \n",
       "0  2015  1        \n",
       "1  2016  1        \n",
       "2  2017  1        \n",
       "3  2018  1        "
      ]
     },
     "execution_count": 38,
     "metadata": {},
     "output_type": "execute_result"
    }
   ],
   "source": [
    "ticker_df"
   ]
  },
  {
   "cell_type": "code",
   "execution_count": 39,
   "metadata": {},
   "outputs": [
    {
     "data": {
      "text/html": [
       "<div>\n",
       "<style scoped>\n",
       "    .dataframe tbody tr th:only-of-type {\n",
       "        vertical-align: middle;\n",
       "    }\n",
       "\n",
       "    .dataframe tbody tr th {\n",
       "        vertical-align: top;\n",
       "    }\n",
       "\n",
       "    .dataframe thead th {\n",
       "        text-align: right;\n",
       "    }\n",
       "</style>\n",
       "<table border=\"1\" class=\"dataframe\">\n",
       "  <thead>\n",
       "    <tr style=\"text-align: right;\">\n",
       "      <th></th>\n",
       "      <th>conm</th>\n",
       "      <th>type</th>\n",
       "      <th>cik</th>\n",
       "      <th>date</th>\n",
       "      <th>path</th>\n",
       "      <th>year</th>\n",
       "      <th>quarter</th>\n",
       "    </tr>\n",
       "  </thead>\n",
       "  <tbody>\n",
       "    <tr>\n",
       "      <th>0</th>\n",
       "      <td>Navios Maritime Midstream Partners LP</td>\n",
       "      <td>20-F</td>\n",
       "      <td>1617049</td>\n",
       "      <td>2015-03-17</td>\n",
       "      <td>https://www.sec.gov/Archives/edgar/data/1617049/0001193125-15-095533-index.htm</td>\n",
       "      <td>2015</td>\n",
       "      <td>1</td>\n",
       "    </tr>\n",
       "    <tr>\n",
       "      <th>1</th>\n",
       "      <td>Navios Maritime Midstream Partners LP</td>\n",
       "      <td>20-F</td>\n",
       "      <td>1617049</td>\n",
       "      <td>2016-03-08</td>\n",
       "      <td>https://www.sec.gov/Archives/edgar/data/1617049/0001193125-16-496861-index.htm</td>\n",
       "      <td>2016</td>\n",
       "      <td>1</td>\n",
       "    </tr>\n",
       "    <tr>\n",
       "      <th>2</th>\n",
       "      <td>Navios Maritime Midstream Partners LP</td>\n",
       "      <td>20-F</td>\n",
       "      <td>1617049</td>\n",
       "      <td>2017-03-08</td>\n",
       "      <td>https://www.sec.gov/Archives/edgar/data/1617049/0001193125-17-074840-index.htm</td>\n",
       "      <td>2017</td>\n",
       "      <td>1</td>\n",
       "    </tr>\n",
       "    <tr>\n",
       "      <th>3</th>\n",
       "      <td>Navios Maritime Midstream Partners LP</td>\n",
       "      <td>20-F</td>\n",
       "      <td>1617049</td>\n",
       "      <td>2018-03-09</td>\n",
       "      <td>https://www.sec.gov/Archives/edgar/data/1617049/0001193125-18-077362-index.htm</td>\n",
       "      <td>2018</td>\n",
       "      <td>1</td>\n",
       "    </tr>\n",
       "  </tbody>\n",
       "</table>\n",
       "</div>"
      ],
      "text/plain": [
       "                                    conm  type      cik        date  \\\n",
       "0  Navios Maritime Midstream Partners LP  20-F  1617049  2015-03-17   \n",
       "1  Navios Maritime Midstream Partners LP  20-F  1617049  2016-03-08   \n",
       "2  Navios Maritime Midstream Partners LP  20-F  1617049  2017-03-08   \n",
       "3  Navios Maritime Midstream Partners LP  20-F  1617049  2018-03-09   \n",
       "\n",
       "                                                                             path  \\\n",
       "0  https://www.sec.gov/Archives/edgar/data/1617049/0001193125-15-095533-index.htm   \n",
       "1  https://www.sec.gov/Archives/edgar/data/1617049/0001193125-16-496861-index.htm   \n",
       "2  https://www.sec.gov/Archives/edgar/data/1617049/0001193125-17-074840-index.htm   \n",
       "3  https://www.sec.gov/Archives/edgar/data/1617049/0001193125-18-077362-index.htm   \n",
       "\n",
       "   year  quarter  \n",
       "0  2015  1        \n",
       "1  2016  1        \n",
       "2  2017  1        \n",
       "3  2018  1        "
      ]
     },
     "execution_count": 39,
     "metadata": {},
     "output_type": "execute_result"
    }
   ],
   "source": [
    "ticker_df"
   ]
  },
  {
   "cell_type": "code",
   "execution_count": 40,
   "metadata": {},
   "outputs": [],
   "source": [
    "nap_df = pd.read_pickle('testout/NAP.pkl')"
   ]
  },
  {
   "cell_type": "code",
   "execution_count": 42,
   "metadata": {},
   "outputs": [],
   "source": [
    "from xbrl_parser import *"
   ]
  },
  {
   "cell_type": "code",
   "execution_count": 43,
   "metadata": {},
   "outputs": [],
   "source": [
    "nap_df = preprocess_df(nap_df)"
   ]
  },
  {
   "cell_type": "code",
   "execution_count": 45,
   "metadata": {},
   "outputs": [],
   "source": [
    "nap_df_consolidated = get_consolidated_df(nap_df)"
   ]
  },
  {
   "cell_type": "code",
   "execution_count": 54,
   "metadata": {},
   "outputs": [
    {
     "data": {
      "text/plain": [
       "us-gaap:CashAndCashEquivalentsAtCarryingValue                                                                                7\n",
       "us-gaap:IncreaseDecreaseInAccountsPayable                                                                                    6\n",
       "us-gaap:AmortizationOfDeferredCharges                                                                                        6\n",
       "us-gaap:PaymentsToAcquireBusinessesGross                                                                                     6\n",
       "us-gaap:OtherExpenses                                                                                                        6\n",
       "us-gaap:DirectOperatingCosts                                                                                                 6\n",
       "us-gaap:NetIncomeLoss                                                                                                        6\n",
       "us-gaap:ProfessionalAndContractServicesExpense                                                                               6\n",
       "us-gaap:CashAndCashEquivalentsPeriodIncreaseDecrease                                                                         6\n",
       "us-gaap:IncreaseDecreaseInPrepaidDeferredExpenseAndOtherAssets                                                               6\n",
       "us-gaap:NetCashProvidedByUsedInInvestingActivities                                                                           6\n",
       "us-gaap:IncreaseDecreaseInAccruedLiabilities                                                                                 6\n",
       "us-gaap:PartnersCapital                                                                                                      6\n",
       "us-gaap:IncreaseDecreaseInAccountsReceivable                                                                                 6\n",
       "us-gaap:DepreciationAndAmortization                                                                                          6\n",
       "us-gaap:GeneralAndAdministrativeExpense                                                                                      6\n",
       "us-gaap:CostOfRevenue                                                                                                        6\n",
       "us-gaap:OtherIncome                                                                                                          6\n",
       "us-gaap:InterestPaid                                                                                                         6\n",
       "us-gaap:NetCashProvidedByUsedInOperatingActivities                                                                           6\n",
       "us-gaap:InterestAndDebtExpense                                                                                               6\n",
       "us-gaap:Revenues                                                                                                             6\n",
       "us-gaap:NetCashProvidedByUsedInFinancingActivities                                                                           6\n",
       "us-gaap:AmortizationOfFinancingCosts                                                                                         6\n",
       "us-gaap:LiabilitiesNoncurrent                                                                                                5\n",
       "us-gaap:DeferredFinanceCostsNoncurrentNet                                                                                    5\n",
       "nap:NonCashLongTermDebt                                                                                                      5\n",
       "us-gaap:IncreaseDecreaseInDeferredCharges                                                                                    5\n",
       "us-gaap:PaymentsToAcquirePropertyPlantAndEquipment                                                                           5\n",
       "us-gaap:LiabilitiesAndStockholdersEquity                                                                                     5\n",
       "                                                                                                                            ..\n",
       "nap:UtilizationRateFleet                                                                                                     3\n",
       "us-gaap:RestrictedCashAndCashEquivalentsAtCarryingValue                                                                      2\n",
       "nap:DueFromRelatedPartiesNoncurrentDisclosure                                                                                2\n",
       "us-gaap:OperatingLeasesFutureMinimumPaymentsReceivableInFiveYears                                                            2\n",
       "us-gaap:OperatingLeasesFutureMinimumPaymentsReceivableThereafter                                                             2\n",
       "us-gaap:RevenueFromRelatedParties                                                                                            2\n",
       "us-gaap:LineOfCredit                                                                                                         2\n",
       "us-gaap:LongTermDebtMaturitiesRepaymentsOfPrincipalInYearTwo                                                                 2\n",
       "us-gaap:LongTermDebtMaturitiesRepaymentsOfPrincipalInYearThree                                                               2\n",
       "us-gaap:LinesOfCreditFairValueDisclosure                                                                                     2\n",
       "us-gaap:DueFromRelatedPartiesNoncurrent                                                                                      2\n",
       "us-gaap:LongTermDebtMaturitiesRepaymentsOfPrincipalInYearFour                                                                2\n",
       "nap:RestrictedCashCashEquivalentsFairValueDisclosure                                                                         2\n",
       "us-gaap:LongTermDebtMaturitiesRepaymentsOfPrincipalInNextTwelveMonths                                                        2\n",
       "nap:MaximumAggregateOfferingPriceForIssuanceOfLimitedPartnerInterests                                                        1\n",
       "us-gaap:LongTermDebtMaturitiesRepaymentsOfPrincipalInRollingYearTwo                                                          1\n",
       "nap:OperatingLeasesFutureMinimumPaymentsReceivableThereafter1                                                                1\n",
       "nap:NewAccountingPronouncementOrChangeInAccountingPrincipleEffectChangeOnSeniorLongTermNotesNetTotalCurrentLiabilities       1\n",
       "nap:NewAccountingPronouncementOrChangeInAccountingPrincipleEffectChangeOnSeniorLongTermNotesNetTotalNonCurrentLiabilities    1\n",
       "us-gaap:ProceedsFromIssuanceInitialPublicOffering                                                                            1\n",
       "us-gaap:WeightedAverageLimitedPartnershipUnitsOutstanding                                                                    1\n",
       "nap:CapitalContributionFromBusinessAcquisition                                                                               1\n",
       "us-gaap:LongTermDebtMaturitiesRepaymentsOfPrincipalInNextRollingTwelveMonths                                                 1\n",
       "us-gaap:StockIssuedDuringPeriodSharesConversionOfUnits                                                                       1\n",
       "us-gaap:LongTermDebtMaturitiesRepaymentsOfPrincipalInRollingYearThree                                                        1\n",
       "nap:AdjustmentForDepreciation                                                                                                1\n",
       "nap:NoncashAssetsLiabilitiesRetainedInBusinessCombination                                                                    1\n",
       "nap:IssuanceSubordinatedSeriesALimitedPartnersCapitalAccountUnitsIssuedValue                                                 1\n",
       "nap:BusinessAcquisitionCostAcquiredEntityOtherNoncashConsideration1                                                          1\n",
       "us-gaap:LongTermDebtMaturitiesRepaymentsOfPrincipalInYearFive                                                                1\n",
       "Name: Account, Length: 177, dtype: int64"
      ]
     },
     "execution_count": 54,
     "metadata": {},
     "output_type": "execute_result"
    }
   ],
   "source": [
    "nap_df_consolidated.Account.value_counts()"
   ]
  },
  {
   "cell_type": "code",
   "execution_count": 59,
   "metadata": {},
   "outputs": [
    {
     "data": {
      "text/plain": [
       "<matplotlib.axes._subplots.AxesSubplot at 0x7fef75b1aa20>"
      ]
     },
     "execution_count": 59,
     "metadata": {},
     "output_type": "execute_result"
    },
    {
     "data": {
      "image/png": "[encoded data removed]",
      "text/plain": [
       "<Figure size 432x288 with 1 Axes>"
      ]
     },
     "metadata": {},
     "output_type": "display_data"
    }
   ],
   "source": [
    "nap_df_consolidated.query(\"Account=='us-gaap:NetCashProvidedByUsedInInvestingActivities'\").plot(x='endDateTime2',y='Value2')"
   ]
  },
  {
   "cell_type": "code",
   "execution_count": null,
   "metadata": {},
   "outputs": [],
   "source": []
  }
 ],
 "metadata": {
  "kernelspec": {
   "display_name": "Python 3",
   "language": "python",
   "name": "python3"
  },
  "language_info": {
   "codemirror_mode": {
    "name": "ipython",
    "version": 3
   },
   "file_extension": ".py",
   "mimetype": "text/x-python",
   "name": "python",
   "nbconvert_exporter": "python",
   "pygments_lexer": "ipython3",
   "version": "3.6.5"
  }
 },
 "nbformat": 4,
 "nbformat_minor": 2
}
